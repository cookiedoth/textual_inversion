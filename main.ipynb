{
 "cells": [
  {
   "cell_type": "code",
   "execution_count": null,
   "id": "774de778",
   "metadata": {},
   "outputs": [],
   "source": [
    "import os\n",
    "import wikiart"
   ]
  },
  {
   "cell_type": "code",
   "execution_count": null,
   "id": "bdad32df",
   "metadata": {},
   "outputs": [],
   "source": [
    "WIKIART_PATH = 'datasets/wikiart-saved'"
   ]
  },
  {
   "cell_type": "code",
   "execution_count": null,
   "id": "f43d99ca",
   "metadata": {},
   "outputs": [],
   "source": [
    "wikiart.list_artists()"
   ]
  },
  {
   "cell_type": "code",
   "execution_count": null,
   "id": "700a4823",
   "metadata": {},
   "outputs": [],
   "source": [
    "oscar = wikiart.load_artist('vincent-van-gogh')"
   ]
  },
  {
   "cell_type": "code",
   "execution_count": null,
   "id": "122fabd9",
   "metadata": {},
   "outputs": [],
   "source": [
    "len(oscar)"
   ]
  },
  {
   "cell_type": "code",
   "execution_count": 1,
   "id": "3ff95c35",
   "metadata": {},
   "outputs": [
    {
     "ename": "NameError",
     "evalue": "name 'hjbbh' is not defined",
     "output_type": "error",
     "traceback": [
      "\u001b[0;31m---------------------------------------------------------------------------\u001b[0m",
      "\u001b[0;31mNameError\u001b[0m                                 Traceback (most recent call last)",
      "\u001b[0;32m<ipython-input-1-50044ba6e409>\u001b[0m in \u001b[0;36m<module>\u001b[0;34m\u001b[0m\n\u001b[0;32m----> 1\u001b[0;31m \u001b[0mhjbbh\u001b[0m\u001b[0;34m\u001b[0m\u001b[0;34m\u001b[0m\u001b[0m\n\u001b[0m",
      "\u001b[0;31mNameError\u001b[0m: name 'hjbbh' is not defined"
     ]
    }
   ],
   "source": [
    "hjbbh"
   ]
  },
  {
   "cell_type": "code",
   "execution_count": null,
   "id": "db3d1595",
   "metadata": {},
   "outputs": [],
   "source": [
    "wikiart.load_artist_meta('oscar-dominguez')"
   ]
  }
 ],
 "metadata": {
  "kernelspec": {
   "display_name": "Python 3",
   "language": "python",
   "name": "python3"
  },
  "language_info": {
   "codemirror_mode": {
    "name": "ipython",
    "version": 3
   },
   "file_extension": ".py",
   "mimetype": "text/x-python",
   "name": "python",
   "nbconvert_exporter": "python",
   "pygments_lexer": "ipython3",
   "version": "3.8.10"
  }
 },
 "nbformat": 4,
 "nbformat_minor": 5
}
