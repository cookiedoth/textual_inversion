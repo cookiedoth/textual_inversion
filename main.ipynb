{
 "cells": [
  {
   "cell_type": "code",
   "execution_count": null,
   "id": "ac6aeb9d",
   "metadata": {},
   "outputs": [],
   "source": [
    "import os\n",
    "import wikiart"
   ]
  },
  {
   "cell_type": "code",
   "execution_count": null,
   "id": "dc19efc7",
   "metadata": {},
   "outputs": [],
   "source": [
    "oscar = wikiart.load_artist('vincent-van-gogh')"
   ]
  },
  {
   "cell_type": "code",
   "execution_count": null,
   "id": "b788ed41",
   "metadata": {},
   "outputs": [],
   "source": [
    "oscar[0].image"
   ]
  },
  {
   "cell_type": "code",
   "execution_count": null,
   "id": "f969baa0",
   "metadata": {},
   "outputs": [],
   "source": [
    "import tinv_wrapper\n",
    "\n",
    "tinv_wrapper.invert(5)"
   ]
  },
  {
   "cell_type": "code",
   "execution_count": 1,
   "id": "cad59ccf",
   "metadata": {},
   "outputs": [
    {
     "name": "stdout",
     "output_type": "stream",
     "text": [
      "Running on GPUs 0,\n",
      "Loading model from models/ldm/text2img-large/model.ckpt\n",
      "LatentDiffusion: Running in eps-prediction mode\n",
      "DiffusionWrapper has 872.30 M params.\n",
      "making attention of type 'vanilla' with 512 in_channels\n",
      "Working with z of shape (1, 4, 32, 32) = 4096 dimensions.\n",
      "making attention of type 'vanilla' with 512 in_channels\n",
      "Restored from models/ldm/text2img-large/model.ckpt with 0 missing and 2 unexpected keys\n",
      "Unexpected Keys: ['model_ema.decay', 'model_ema.num_updates']\n"
     ]
    }
   ],
   "source": [
    "import helpers\n",
    "\n",
    "helpers.execute(['python', 'main.py', '--base', 'configs/latent-diffusion/txt2img-1p4B-finetune.yaml', '-t', '--actual_resume', 'models/ldm/text2img-large/model.ckpt', '-n', 'tmp', '--gpus', '0,', '--data_root', 'source_img', '--init_word', '\"painting\"'])"
   ]
  },
  {
   "cell_type": "code",
   "execution_count": null,
   "id": "849aa0bd",
   "metadata": {},
   "outputs": [],
   "source": []
  }
 ],
 "metadata": {
  "kernelspec": {
   "display_name": "Python 3",
   "language": "python",
   "name": "python3"
  },
  "language_info": {
   "codemirror_mode": {
    "name": "ipython",
    "version": 3
   },
   "file_extension": ".py",
   "mimetype": "text/x-python",
   "name": "python",
   "nbconvert_exporter": "python",
   "pygments_lexer": "ipython3",
   "version": "3.8.10"
  }
 },
 "nbformat": 4,
 "nbformat_minor": 5
}
