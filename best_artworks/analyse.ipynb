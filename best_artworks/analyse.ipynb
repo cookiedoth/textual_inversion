{
 "cells": [
  {
   "cell_type": "code",
   "execution_count": 11,
   "id": "29691afc",
   "metadata": {},
   "outputs": [],
   "source": [
    "import os\n",
    "import torch\n",
    "import matplotlib.pyplot as plt"
   ]
  },
  {
   "cell_type": "code",
   "execution_count": 14,
   "id": "1af24f08",
   "metadata": {},
   "outputs": [
    {
     "data": {
      "text/plain": [
       "<matplotlib.image.AxesImage at 0x7f4562c71a60>"
      ]
     },
     "execution_count": 14,
     "metadata": {},
     "output_type": "execute_result"
    },
    {
     "data": {
      "image/png": "[encoded data removed]",
      "text/plain": [
       "<Figure size 432x288 with 1 Axes>"
      ]
     },
     "metadata": {
      "needs_background": "light"
     },
     "output_type": "display_data"
    }
   ],
   "source": [
    "def get_embedding(path):\n",
    "    return torch.load(path, map_location='cpu')['string_to_param']['*'].detach()\n",
    "\n",
    "def get_embeddings(artist, attempt):\n",
    "    logdirs = list(filter(lambda s: s.endswith(f'{artist}{attempt}'), os.listdir('logs')))\n",
    "    if len(logdirs) != 1:\n",
    "        print('Not unique')\n",
    "        return\n",
    "    path = f'logs/{logdirs[0]}/checkpoints'\n",
    "    embedding_list = list(filter(lambda s: s.startswith(f'embeddings_gs'), os.listdir(path)))\n",
    "    embedding_list = sorted(embedding_list, key=(lambda s: os.path.getctime(os.path.join(path, s))))\n",
    "    return torch.cat(list(map(lambda s: get_embedding(os.path.join(path, s)), embedding_list)))\n",
    "        \n",
    "emb = torch.stack([get_embeddings('Alfred_Sisley', i)[-1, :] for i in range(5)] + \\\n",
    "    [get_embeddings('Pablo_Picasso', i)[-1, :] for i in range(5)])\n",
    "\n",
    "dists = torch.cdist(emb, emb)\n",
    "plt.imshow(dists, cmap='hot', interpolation='nearest')"
   ]
  }
 ],
 "metadata": {
  "kernelspec": {
   "display_name": "Python 3",
   "language": "python",
   "name": "python3"
  },
  "language_info": {
   "codemirror_mode": {
    "name": "ipython",
    "version": 3
   },
   "file_extension": ".py",
   "mimetype": "text/x-python",
   "name": "python",
   "nbconvert_exporter": "python",
   "pygments_lexer": "ipython3",
   "version": "3.8.10"
  }
 },
 "nbformat": 4,
 "nbformat_minor": 5
}
